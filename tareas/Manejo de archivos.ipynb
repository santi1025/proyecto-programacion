{
 "cells": [
  {
   "cell_type": "markdown",
   "id": "782100fc-b1c4-437a-b777-2fac688858d7",
   "metadata": {},
   "source": [
    "# Manejo de archivos"
   ]
  },
  {
   "cell_type": "code",
   "execution_count": 10,
   "id": "430312ec-48bb-4e34-9f80-cd27c0ac7ce1",
   "metadata": {},
   "outputs": [
    {
     "name": "stdout",
     "output_type": "stream",
     "text": [
      "<_io.TextIOWrapper name='numeros.txt' mode='r' encoding='utf-8'>\n"
     ]
    }
   ],
   "source": [
    "### Objetivo: convertir la información en los archivos a variables de Python para poder hacer cálculos con ellas\n",
    "\n",
    "## Primer paso: Abrir el archivo\n",
    "archivo=open(\"numeros.txt\", encoding=\"utf-8\")\n",
    "print(archivo)\n",
    "archivo.close()"
   ]
  },
  {
   "cell_type": "code",
   "execution_count": 3,
   "id": "44017283-2b8b-4a2a-8fc8-9b6673b5a7cc",
   "metadata": {},
   "outputs": [
    {
     "name": "stdout",
     "output_type": "stream",
     "text": [
      "3\n",
      "4\n",
      "5\n",
      "63\n",
      "2\n",
      "69\n",
      "10\n"
     ]
    }
   ],
   "source": [
    "## Primer dos: Leer el contenido\n",
    "archivo=open(\"numeros.txt\", encoding=\"utf-8\")\n",
    "\n",
    "contenido=archivo.read()\n",
    "print(contenido)\n",
    "\n",
    "archivo.close()"
   ]
  },
  {
   "cell_type": "code",
   "execution_count": 4,
   "id": "24c59f64-7935-4105-a113-c088ea2907f2",
   "metadata": {},
   "outputs": [
    {
     "data": {
      "text/plain": [
       "'3\\n4\\n5\\n63\\n2\\n69\\n10'"
      ]
     },
     "execution_count": 4,
     "metadata": {},
     "output_type": "execute_result"
    }
   ],
   "source": [
    "contenido"
   ]
  },
  {
   "cell_type": "code",
   "execution_count": 3,
   "id": "62b5d4fb-1bc5-4c88-b4b9-94d95458ba4d",
   "metadata": {},
   "outputs": [],
   "source": [
    "## También se puede leer el archivo\n",
    "## línea por línea\n",
    "\n",
    "archivo=open(\"numeros.txt\")\n",
    "\n",
    "lineas=archivo.readlines()\n",
    "\n",
    "archivo.close()"
   ]
  },
  {
   "cell_type": "code",
   "execution_count": 4,
   "id": "9b886f3c-6b01-4d8b-95fc-397ef8dcafcc",
   "metadata": {},
   "outputs": [
    {
     "name": "stdout",
     "output_type": "stream",
     "text": [
      "['1\\n', '2\\n', '3\\n', '4\\n', '5']\n"
     ]
    }
   ],
   "source": [
    "print(lineas)"
   ]
  },
  {
   "cell_type": "code",
   "execution_count": 5,
   "id": "df8b3886-a26a-490d-acbd-699fb5a1d5bc",
   "metadata": {},
   "outputs": [
    {
     "name": "stdout",
     "output_type": "stream",
     "text": [
      "15\n"
     ]
    }
   ],
   "source": [
    "numeros=map(int, lineas)\n",
    "sumaT=sum(numeros)\n",
    "print(sumaT)"
   ]
  },
  {
   "cell_type": "code",
   "execution_count": 6,
   "id": "71f060df-40ef-468e-be79-aa290272d18e",
   "metadata": {},
   "outputs": [
    {
     "name": "stdout",
     "output_type": "stream",
     "text": [
      "3\n"
     ]
    }
   ],
   "source": [
    "a=int(lineas[0])\n",
    "b=int(lineas[1])\n",
    "\n",
    "print(a+b)"
   ]
  },
  {
   "cell_type": "code",
   "execution_count": 7,
   "id": "0c198323-5ad8-424e-808e-23d66fdf3623",
   "metadata": {},
   "outputs": [],
   "source": [
    "### Escribir los resultados a un archivo:\n",
    "\n",
    "###Abrir un archivo nuevo en modo escritura:\n",
    "\n",
    "archivoR=open(\"resultados.txt\", \"w\")\n",
    "\n",
    "archivoR.write(\"*\"*20+ \"\\n\")\n",
    "archivoR.write(\"RESULTADO DE LA SUMA\\n\")\n",
    "archivoR.write(\"*\"*20+ \"\\n\")\n",
    "archivoR.write(f\"{sumaT}\")\n",
    "\n",
    "archivoR.close()"
   ]
  },
  {
   "cell_type": "code",
   "execution_count": 20,
   "id": "f30d17bb-052f-4de2-a978-60f413d446c9",
   "metadata": {},
   "outputs": [
    {
     "name": "stdout",
     "output_type": "stream",
     "text": [
      "Ya terminé de ejecutar\n"
     ]
    }
   ],
   "source": [
    "print(\"Ya terminé de ejecutar\")"
   ]
  },
  {
   "cell_type": "markdown",
   "id": "c1612908-93ff-44e6-b3f0-3476cc5781e9",
   "metadata": {},
   "source": [
    "# Ejercicio 2"
   ]
  },
  {
   "cell_type": "code",
   "execution_count": 22,
   "id": "16a2e158-3608-4d90-bf7e-9614d940be58",
   "metadata": {},
   "outputs": [],
   "source": [
    "class Animal:\n",
    "    def __init__(self, nombre, patas):\n",
    "        self.nombre=nombre\n",
    "        self.patas=patas"
   ]
  },
  {
   "cell_type": "code",
   "execution_count": 32,
   "id": "e3df100c-18e4-4bbd-a149-5ded083536b3",
   "metadata": {},
   "outputs": [
    {
     "name": "stdout",
     "output_type": "stream",
     "text": [
      "Nombre: vaca\n",
      "Patas: 4\n",
      "Nombre: chango\n",
      "Patas: 2\n",
      "Nombre: hormiga\n",
      "Patas: 6\n",
      "Nombre: araña\n",
      "Patas: 8\n"
     ]
    }
   ],
   "source": [
    "file=open(\"animales.txt\", encoding=\"utf-8\")\n",
    "lineas=file.readlines()\n",
    "\n",
    "animales=list()\n",
    "\n",
    "for i, linea in enumerate(lineas):\n",
    "    palabras=linea.split()\n",
    "    animal=Animal(palabras[0],int(palabras[1]))\n",
    "    print(f\"Nombre: {animal.nombre}\")\n",
    "    print(f\"Patas: {animal.patas}\")\n",
    "    animales.append(animal)\n",
    "    \n",
    "file.close()\n",
    "\n",
    "fileR=open(\"resultados2.txt\", \"w\", encoding=\"utf-8\")\n",
    "\n",
    "fileR.write(\"ANIMALES Y SUS PATAS\\n\\n\")\n",
    "\n",
    "for animal in animales:\n",
    "    fileR.write(\"*\"*30 + \"\\n\")\n",
    "    fileR.write(f\"Nombre: {animal.nombre}\\n\")\n",
    "    fileR.write(f\"Número de patas: {animal.patas}\\n\")\n",
    "    fileR.write(\"*\"*30 + \"\\n\"*2)\n",
    "\n",
    "fileR.close()"
   ]
  },
  {
   "cell_type": "code",
   "execution_count": 33,
   "id": "5cacd018-ed30-4ef6-acde-0e0e2c80ec89",
   "metadata": {},
   "outputs": [
    {
     "name": "stdout",
     "output_type": "stream",
     "text": [
      "Ya terminé de ejecutar los animales prro\n"
     ]
    }
   ],
   "source": [
    "print(\"Ya terminé de ejecutar los animales prro\")"
   ]
  }
 ],
 "metadata": {
  "kernelspec": {
   "display_name": "Python 3 (ipykernel)",
   "language": "python",
   "name": "python3"
  },
  "language_info": {
   "codemirror_mode": {
    "name": "ipython",
    "version": 3
   },
   "file_extension": ".py",
   "mimetype": "text/x-python",
   "name": "python",
   "nbconvert_exporter": "python",
   "pygments_lexer": "ipython3",
   "version": "3.10.2"
  }
 },
 "nbformat": 4,
 "nbformat_minor": 5
}
