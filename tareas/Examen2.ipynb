{
 "cells": [
  {
   "cell_type": "code",
   "execution_count": 21,
   "id": "920cf0ea-a08c-4d6f-8f99-0c51811b76f6",
   "metadata": {},
   "outputs": [],
   "source": [
    "class ObjetosyMas:\n",
    "    def __init__(self, nombre, precio_base, horas, servicio_por_hora, vendedor):\n",
    "        self.nombre= nombre\n",
    "        self.precio_base= precio_base\n",
    "        self.horas= horas\n",
    "        self.servicio_por_hora= servicio_por_hora\n",
    "        self.vendedor= vendedor\n",
    "   "
   ]
  },
  {
   "cell_type": "code",
   "execution_count": null,
   "id": "a48be380-71b9-4bde-9508-77a66aa0437d",
   "metadata": {},
   "outputs": [],
   "source": []
  },
  {
   "cell_type": "code",
   "execution_count": 28,
   "id": "3cd58980-a73e-4c69-8eff-7a056d63d93f",
   "metadata": {},
   "outputs": [
    {
     "name": "stdout",
     "output_type": "stream",
     "text": [
      "Nombre: Instalacion\n",
      "Precio base: 500\n",
      "Horas: 2\n",
      "Servicio por hora: 100\n",
      "Vendedor: Pedro\n",
      "Nombre: Reparacion\n",
      "Precio base: 200\n",
      "Horas: 3\n",
      "Servicio por hora: 250\n",
      "Vendedor: Susana\n",
      "Nombre: Visita\n",
      "Precio base: 100\n",
      "Horas: 1\n",
      "Servicio por hora: 100\n",
      "Vendedor: Jorge\n"
     ]
    }
   ],
   "source": [
    "file= open(\"servicios.txt\")\n",
    "lineas=file.readlines()\n",
    "\n",
    "servicios=list()\n",
    "\n",
    "for i, linea in enumerate(lineas):\n",
    "    palabras= linea.split()\n",
    "    lista=ObjetosyMas(palabras[0], int(palabras[1]), int(palabras[2]), int(palabras[3]), palabras[4] )\n",
    "    print(f\"Nombre: {lista.nombre}\")\n",
    "    print(f\"Precio base: {lista.precio_base}\")\n",
    "    print(f\"Horas: {lista.horas}\")\n",
    "    print(f\"Servicio por hora: {lista.servicio_por_hora}\")\n",
    "    print(f\"Vendedor: {lista.vendedor}\")\n",
    "    servicios.append( lista )\n",
    "    \n",
    "file.close()\n",
    "\n",
    "\n",
    "\n",
    "\n",
    "\n",
    "\n",
    "\n"
   ]
  },
  {
   "cell_type": "code",
   "execution_count": null,
   "id": "2c4c43d4-f06f-4939-8377-b1ca3ae4dd9c",
   "metadata": {},
   "outputs": [],
   "source": []
  }
 ],
 "metadata": {
  "kernelspec": {
   "display_name": "Python 3",
   "language": "python",
   "name": "python3"
  },
  "language_info": {
   "codemirror_mode": {
    "name": "ipython",
    "version": 3
   },
   "file_extension": ".py",
   "mimetype": "text/x-python",
   "name": "python",
   "nbconvert_exporter": "python",
   "pygments_lexer": "ipython3",
   "version": "3.9.5"
  }
 },
 "nbformat": 4,
 "nbformat_minor": 5
}
