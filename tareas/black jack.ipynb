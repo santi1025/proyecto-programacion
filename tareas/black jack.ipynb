{
 "cells": [
  {
   "cell_type": "markdown",
   "id": "e58981f9-a121-4481-a774-1b5762c57e47",
   "metadata": {
    "tags": []
   },
   "source": [
    "# Representacion de las clases del juego black jack\n",
    "![imagen](https://www.vegasmaster.com/es/wp-content/uploads/2016/05/Blackjack_board-300x200.jpg)"
   ]
  },
  {
   "cell_type": "code",
   "execution_count": 12,
   "id": "75703cd2-3028-4851-b3ac-3c5bf694babd",
   "metadata": {},
   "outputs": [],
   "source": [
    "class Baraja:\n",
    "    #atributos\n",
    "    tamaño: int\n",
    "    tipo: str\n",
    "    #relaciones\n",
    "    cartas: list #porque son muchas\n",
    "    #metodos\n",
    "    def mezclar(): pass\n",
    "\n",
    "class Carta:\n",
    "    valor: int\n",
    "    palo: str\n",
    "    esta_oculta: bool\n",
    "    def enseñar(): pass\n",
    "\n",
    "class Mano:\n",
    "    puntaje: int \n",
    "    tamaños: int \n",
    "    def mostrar_carta(): pass\n",
    "\n",
    "class Jugador:\n",
    "    nombre: str\n",
    "    detalles: str\n",
    "    turno: bool\n",
    "    def Apostar(): pass\n",
    "    def Pedir_carta(): pass\n",
    "    def Pasar(): pass\n",
    "    def Mostrar_carta(): pass\n",
    "class fichas:\n",
    "    valor: int \n",
    "    tamaño: int\n",
    "    color: str\n",
    "class juego:\n",
    "    menu: bool\n",
    "    cantidad_jugadores: int\n",
    "    apuesta_minima: int\n",
    "    apuesta_maxima: int\n",
    "    tipo_dealer: bool\n",
    "    def iniciar_juego(): pass\n",
    "    def pausar_juego(): pass\n",
    "    def quitar_juego(): pass\n",
    "class dealer:\n",
    "    def pedir_carta(): pass\n",
    "    def pasar(): pass\n",
    "    \n",
    "    "
   ]
  },
  {
   "cell_type": "code",
   "execution_count": null,
   "id": "484c4547-fd62-4b7f-abdd-e0fc6be70b8c",
   "metadata": {},
   "outputs": [],
   "source": []
  }
 ],
 "metadata": {
  "kernelspec": {
   "display_name": "Python 3",
   "language": "python",
   "name": "python3"
  },
  "language_info": {
   "codemirror_mode": {
    "name": "ipython",
    "version": 3
   },
   "file_extension": ".py",
   "mimetype": "text/x-python",
   "name": "python",
   "nbconvert_exporter": "python",
   "pygments_lexer": "ipython3",
   "version": "3.9.5"
  }
 },
 "nbformat": 4,
 "nbformat_minor": 5
}
