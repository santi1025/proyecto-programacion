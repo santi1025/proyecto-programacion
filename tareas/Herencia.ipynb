{
 "cells": [
  {
   "cell_type": "code",
   "execution_count": 7,
   "id": "936e077e-96c3-4792-bc1b-d77aff0e3ea7",
   "metadata": {},
   "outputs": [],
   "source": [
    "class Pato:\n",
    "    nombre: str\n",
    "    def __init__(self, nombre):\n",
    "        self.nombre= nombre\n",
    "    def graznar(self):\n",
    "        print(\"Cuac Cuac\")\n",
    "    def abrazar(self):\n",
    "        print(\"Abrazamos a\", self.nombre)\n",
    "    def dar_de_comer(self):\n",
    "        print(self.nombre, \"comio alimento.\")"
   ]
  },
  {
   "cell_type": "code",
   "execution_count": 8,
   "id": "2311dc60-c175-4c81-9251-1f33895349bd",
   "metadata": {},
   "outputs": [
    {
     "name": "stdout",
     "output_type": "stream",
     "text": [
      "Abrazamos a Huey\n",
      "Cuac Cuac\n"
     ]
    }
   ],
   "source": [
    "huey = Pato(\"Huey\")\n",
    "huey.abrazar()\n",
    "huey.graznar()"
   ]
  },
  {
   "cell_type": "code",
   "execution_count": 15,
   "id": "51b63201-2273-4620-ac04-09977d111ba3",
   "metadata": {},
   "outputs": [
    {
     "ename": "SyntaxError",
     "evalue": "invalid syntax (<ipython-input-15-74e9b0da77b6>, line 22)",
     "output_type": "error",
     "traceback": [
      "\u001b[0;36m  Input \u001b[0;32mIn [15]\u001b[0;36m\u001b[0m\n\u001b[0;31m    def graznar(self)\u001b[0m\n\u001b[0m                     ^\u001b[0m\n\u001b[0;31mSyntaxError\u001b[0m\u001b[0;31m:\u001b[0m invalid syntax\n"
     ]
    }
   ],
   "source": [
    "class Animal:\n",
    "    nombre: str\n",
    "    def __init__(self, nombre):\n",
    "        self.nombre= nombre\n",
    "    def __repr__(self):\n",
    "        return self.nombre + \" esta en el zoologico.\"\n",
    "    def dar_de_comer(self):\n",
    "        print(self.nombre, \"comio su alimento.\")\n",
    "    def abrazar(self):\n",
    "        print(\"No esta implementado abrazar para\"+ self.nombre)\n",
    "        \n",
    "class Erizo(Animal):\n",
    "    pass\n",
    "class Abrazable(Animal):\n",
    "     def abrazar(self):\n",
    "        print(\"Abrazamos a\", self.nombre)\n",
    "class Pato(Abrazable):\n",
    "    def __init__(self, nombre):\n",
    "        \"\"\" haremos una sobrecarga \"\"\"\n",
    "        nuevo_nombre= \"Pato \" + nombre\n",
    "        super().__init__(nuevo_nombre)\n",
    "        def graznar(self)\n",
    "        print(\"Cuac cuac\")\n",
    "\n",
    "class Perro(Abrazable):\n",
    "    def ladrar(self):\n",
    "        print(\"Woof woof\")\n",
    "      "
   ]
  },
  {
   "cell_type": "code",
   "execution_count": 15,
   "id": "d3d2425e-9f6f-444b-8af1-6c1a1d67b9fc",
   "metadata": {},
   "outputs": [
    {
     "name": "stdout",
     "output_type": "stream",
     "text": [
      "Cuac cuac\n",
      "Abrazamos a Dewey\n",
      "Dewey comio su alimento.\n"
     ]
    }
   ],
   "source": [
    "dewey= Pato(\"Dewey\")\n",
    "dewey.graznar()\n",
    "dewey.abrazar()\n",
    "dewey.dar_de_comer()"
   ]
  },
  {
   "cell_type": "markdown",
   "id": "80eef9b6-cbe7-492e-83ab-97f49edc9d3a",
   "metadata": {},
   "source": [
    "### Generar a todos los animales"
   ]
  },
  {
   "cell_type": "code",
   "execution_count": 16,
   "id": "436f379c-38f9-4ad1-bd91-05427340e775",
   "metadata": {},
   "outputs": [
    {
     "name": "stdout",
     "output_type": "stream",
     "text": [
      "Huey esta en el zoologico.\n",
      "Lewie esta en el zoologico.\n",
      "Dewey esta en el zoologico.\n",
      "Chuck esta en el zoologico.\n",
      "Butch esta en el zoologico.\n",
      "Lucky esta en el zoologico.\n",
      "Sparky esta en el zoologico.\n"
     ]
    }
   ],
   "source": [
    "animales= []\n",
    "for nombre in [\"Huey\", \"Lewie\", \"Dewey\"]:\n",
    "    animales.append( Pato(nombre) )\n",
    "    \n",
    "for nombre in [\"Chuck\", \"Butch\"]:\n",
    "    animales.append( Erizo(nombre) )\n",
    "    \n",
    "for nombre in [\"Lucky\", \"Sparky\"]:\n",
    "    animales.append(Perro(nombre))\n",
    "    \n",
    "for animal in animales:\n",
    "    print(animal)"
   ]
  },
  {
   "cell_type": "markdown",
   "id": "0ccb46cb-f254-49e6-95d1-f2f01d84f626",
   "metadata": {
    "tags": []
   },
   "source": [
    "## Ejercicio\n",
    "\n",
    "Situacion:\n",
    "    Se tiene una empresa con programadores, secretarias y gerentes.\n",
    "    Los programadores y las secretarias reciben un sueldo base mas un bono \n",
    "    por antiguedad de 1000 por año trabajando  \n",
    "    \n",
    "    Los gerentes solo reciben su salario.\n",
    "    los gerentes pueden cambiar el salario de los programadores en cualquier momento, pero solo para icrementarlo.\n",
    "    Todos tienen una funcion de trabajar, pero el gerente gerencia; el programador programa y la secretaria apoya. Para subirlos al sistema, se conoce la antiguedad, el nombre y el puesto de la persona\n",
    "    Las clase que modelen el sistema deben incluir un metodo que calcule el salario adecuadamente y lo regrese para iprimirlo.  \n",
    "    \n",
    "    Salarios:  \n",
    "        - Gerentes: __50,000__\n",
    "        - Secretarias: __15,000__\n",
    "        - Programadores: __25,000__\n",
    "### Objetos\n",
    "  1. Modela las clases necesarias para representar esta situacion.\n",
    "  2. programar las clases utilizando herencia\n",
    "  3. crear una prueba en la que se generen uno de cada tipo de empleado y se impirman sus datos  \n",
    "  \n",
    "            \n",
    "        \n",
    "    "
   ]
  },
  {
   "cell_type": "code",
   "execution_count": 81,
   "id": "9848116c-4be7-4e3a-a7e2-ae289a2b797f",
   "metadata": {
    "tags": []
   },
   "outputs": [],
   "source": [
    "class Empleado:\n",
    "    nombre: str\n",
    "    antiguedad: int\n",
    "    puesto: str\n",
    "    def __init__(self, nombre, puesto, antiguedad):\n",
    "        self.nombre= nombre \n",
    "        self.puesto= puesto\n",
    "        self.antiguedad= antiguedad\n",
    "        \n",
    "        if puesto ==\"Gerente\":\n",
    "            self.sueldo= 50_000\n",
    "        elif puesto== \"Secretario\":\n",
    "            self.sueldo= 15_000\n",
    "        else :\n",
    "            self.sueldo= 25_000 \n",
    "        \n",
    "    def __repr__(self):\n",
    "        return \"Nombre: \" + self.nombre + \" \" + \"Puesto: \"+ self.puesto + \" \" + \"Salario:\" + str(self.sueldo)\n",
    "\n",
    "        \n",
    "class Gerente(Empleado):\n",
    "    def __repr__(self):\n",
    "        return self.sueldo\n",
    "\n",
    "class Bono(Empleado):\n",
    "    antiguedad: int\n",
    "    def __init__(self, nombre, puesto, antiguedad):\n",
    "        super().__init__(nombre,  puesto, antiguedad)\n",
    "        self.sueldo= self.sueldo + self.antiguedad*1000 \n",
    "\n",
    "class Programador(Bono):\n",
    "    pass\n",
    "\n",
    "class Secretario(Bono):\n",
    "    pass\n",
    "\n",
    "\n",
    "\n",
    "\n",
    "        \n",
    "        \n",
    "    \n",
    "    "
   ]
  },
  {
   "cell_type": "code",
   "execution_count": 84,
   "id": "0ea334f4-2f9b-4446-aa5b-e6a7fcec52be",
   "metadata": {
    "tags": []
   },
   "outputs": [
    {
     "name": "stdout",
     "output_type": "stream",
     "text": [
      "Nombre: Raul Puesto: Programador Salario:29000\n"
     ]
    }
   ],
   "source": [
    "Empleado1= Programador(\"Raul\", \"Programador\", 4) \n",
    "print (Empleado1)\n",
    "\n",
    "    \n",
    "    "
   ]
  },
  {
   "cell_type": "code",
   "execution_count": null,
   "id": "cd2ec6a1-10d0-4042-bb94-38a399ee6314",
   "metadata": {},
   "outputs": [],
   "source": []
  }
 ],
 "metadata": {
  "kernelspec": {
   "display_name": "Python 3",
   "language": "python",
   "name": "python3"
  },
  "language_info": {
   "codemirror_mode": {
    "name": "ipython",
    "version": 3
   },
   "file_extension": ".py",
   "mimetype": "text/x-python",
   "name": "python",
   "nbconvert_exporter": "python",
   "pygments_lexer": "ipython3",
   "version": "3.9.5"
  }
 },
 "nbformat": 4,
 "nbformat_minor": 5
}
