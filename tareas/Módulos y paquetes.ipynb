{
 "cells": [
  {
   "cell_type": "markdown",
   "id": "e1f6afae-23b9-44b2-ae5a-593d1fedfa51",
   "metadata": {},
   "source": [
    "### Módulos y paquetes\n",
    "\n",
    "__Módulo__: Colección de elementos (variables, funciones y clases) que forman un archivo y están organizados para ser importados en un código de python"
   ]
  },
  {
   "cell_type": "code",
   "execution_count": 2,
   "id": "5831c1c6-e0d0-441b-9b5a-4b47da7cb8b0",
   "metadata": {},
   "outputs": [],
   "source": [
    "varA=3\n",
    "varB=4\n",
    "varC=3.14\n",
    "\n",
    "def saludar():\n",
    "    print(\"hola\")\n",
    "    \n",
    "def despedirse():\n",
    "    print(\"adios\")\n",
    "\n",
    "class ClaseA:\n",
    "    def __init__(self, x, y):\n",
    "        self.x=x\n",
    "        self.y=y\n",
    "    def sumar(self):\n",
    "        return self.x+self.y\n",
    "    def multiplicar(self):\n",
    "        return self.x*self.y"
   ]
  },
  {
   "cell_type": "code",
   "execution_count": 6,
   "id": "b9cfd8a1-3674-45bd-a910-b0dddb3c78fa",
   "metadata": {},
   "outputs": [
    {
     "name": "stdout",
     "output_type": "stream",
     "text": [
      "hola\n",
      "5\n",
      "15\n",
      "adios\n"
     ]
    }
   ],
   "source": [
    "saludar()\n",
    "ob1= ClaseA(2,3)\n",
    "ob2= ClaseA(3,5)\n",
    "\n",
    "print(ob1.sumar())\n",
    "print(ob2.multiplicar())\n",
    "despedirse()"
   ]
  }
 ],
 "metadata": {
  "kernelspec": {
   "display_name": "Python 3 (ipykernel)",
   "language": "python",
   "name": "python3"
  },
  "language_info": {
   "codemirror_mode": {
    "name": "ipython",
    "version": 3
   },
   "file_extension": ".py",
   "mimetype": "text/x-python",
   "name": "python",
   "nbconvert_exporter": "python",
   "pygments_lexer": "ipython3",
   "version": "3.10.2"
  }
 },
 "nbformat": 4,
 "nbformat_minor": 5
}
